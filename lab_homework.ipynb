{
  "nbformat": 4,
  "nbformat_minor": 0,
  "metadata": {
    "colab": {
      "provenance": []
    },
    "kernelspec": {
      "name": "python3",
      "display_name": "Python 3"
    },
    "language_info": {
      "name": "python"
    }
  },
  "cells": [
    {
      "cell_type": "code",
      "execution_count": 1,
      "metadata": {
        "id": "cjVfvyCji_8Q"
      },
      "outputs": [],
      "source": [
        "# Import necessary libraries\n",
        "import numpy as np\n",
        "import tensorflow as tf\n",
        "from tensorflow.keras.datasets import cifar10\n",
        "from tensorflow.keras.models import Sequential\n",
        "from tensorflow.keras.layers import Conv2D, MaxPooling2D, Flatten, Dense, Dropout\n",
        "from tensorflow.keras.utils import to_categorical\n",
        "from sklearn.metrics import confusion_matrix, precision_score, recall_score, f1_score, accuracy_score\n",
        "import seaborn as sns\n",
        "import matplotlib.pyplot as plt"
      ]
    },
    {
      "cell_type": "code",
      "source": [
        "# Load and preprocess the CIFAR-10 dataset\n",
        "(x_train, y_train), (x_test, y_test) = cifar10.load_data()"
      ],
      "metadata": {
        "colab": {
          "base_uri": "https://localhost:8080/"
        },
        "id": "o4qz98E3jctr",
        "outputId": "7ad7b7e8-049a-494b-88cb-13836f6e6b42"
      },
      "execution_count": 2,
      "outputs": [
        {
          "output_type": "stream",
          "name": "stdout",
          "text": [
            "Downloading data from https://www.cs.toronto.edu/~kriz/cifar-10-python.tar.gz\n",
            "170498071/170498071 [==============================] - 11s 0us/step\n"
          ]
        }
      ]
    },
    {
      "cell_type": "code",
      "source": [
        "# Define classes that can fly (1) and cannot fly (0)\n",
        "fly_classes = [0, 2]  # airplane and bird\n",
        "no_fly_classes = [1, 3, 4, 5, 6, 7, 8, 9]  # remaining classes"
      ],
      "metadata": {
        "id": "AH_g4CsBjkB8"
      },
      "execution_count": 3,
      "outputs": []
    },
    {
      "cell_type": "code",
      "source": [
        "# Convert class labels to binary\n",
        "y_train_bin = np.where(np.isin(y_train, fly_classes), 1, 0)\n",
        "y_test_bin = np.where(np.isin(y_test, fly_classes), 1, 0)"
      ],
      "metadata": {
        "id": "nNmOe_xYjppy"
      },
      "execution_count": 4,
      "outputs": []
    },
    {
      "cell_type": "code",
      "source": [
        "# Normalize the images\n",
        "x_train = x_train.astype('float32') / 255.0\n",
        "x_test = x_test.astype('float32') / 255.0"
      ],
      "metadata": {
        "id": "4hK-Br6ljs9G"
      },
      "execution_count": 5,
      "outputs": []
    },
    {
      "cell_type": "code",
      "source": [
        "# Build the CNN model\n",
        "model = Sequential([\n",
        "    Conv2D(32, (3, 3), activation='relu', input_shape=(32, 32, 3)),\n",
        "    MaxPooling2D((2, 2)),\n",
        "    Conv2D(64, (3, 3), activation='relu'),\n",
        "    MaxPooling2D((2, 2)),\n",
        "    Conv2D(128, (3, 3), activation='relu'),\n",
        "    Flatten(),\n",
        "    Dense(128, activation='relu'),\n",
        "    Dropout(0.5),\n",
        "    Dense(1, activation='sigmoid')\n",
        "])"
      ],
      "metadata": {
        "id": "QF-11z83jwKr"
      },
      "execution_count": 6,
      "outputs": []
    },
    {
      "cell_type": "code",
      "source": [
        "# Compile the model\n",
        "model.compile(optimizer='adam', loss='binary_crossentropy', metrics=['accuracy'])"
      ],
      "metadata": {
        "id": "Ni024Kkejy4V"
      },
      "execution_count": 7,
      "outputs": []
    },
    {
      "cell_type": "code",
      "source": [
        "# Train the model\n",
        "history = model.fit(x_train, y_train_bin, epochs=10, batch_size=64, validation_split=0.2)"
      ],
      "metadata": {
        "colab": {
          "base_uri": "https://localhost:8080/"
        },
        "id": "f10pCXKcj8w8",
        "outputId": "75e40a96-3f34-4c6e-ce44-bbcefd1f337e"
      },
      "execution_count": 8,
      "outputs": [
        {
          "output_type": "stream",
          "name": "stdout",
          "text": [
            "Epoch 1/10\n",
            "625/625 [==============================] - 62s 97ms/step - loss: 0.4357 - accuracy: 0.8152 - val_loss: 0.3687 - val_accuracy: 0.8479\n",
            "Epoch 2/10\n",
            "625/625 [==============================] - 57s 92ms/step - loss: 0.3605 - accuracy: 0.8513 - val_loss: 0.3645 - val_accuracy: 0.8477\n",
            "Epoch 3/10\n",
            "625/625 [==============================] - 57s 91ms/step - loss: 0.3221 - accuracy: 0.8701 - val_loss: 0.3192 - val_accuracy: 0.8720\n",
            "Epoch 4/10\n",
            "625/625 [==============================] - 59s 94ms/step - loss: 0.2955 - accuracy: 0.8813 - val_loss: 0.2942 - val_accuracy: 0.8859\n",
            "Epoch 5/10\n",
            "625/625 [==============================] - 59s 95ms/step - loss: 0.2744 - accuracy: 0.8895 - val_loss: 0.2722 - val_accuracy: 0.8939\n",
            "Epoch 6/10\n",
            "625/625 [==============================] - 59s 94ms/step - loss: 0.2521 - accuracy: 0.9006 - val_loss: 0.2757 - val_accuracy: 0.8910\n",
            "Epoch 7/10\n",
            "625/625 [==============================] - 61s 98ms/step - loss: 0.2327 - accuracy: 0.9068 - val_loss: 0.2681 - val_accuracy: 0.8980\n",
            "Epoch 8/10\n",
            "625/625 [==============================] - 58s 93ms/step - loss: 0.2156 - accuracy: 0.9154 - val_loss: 0.2679 - val_accuracy: 0.8975\n",
            "Epoch 9/10\n",
            "625/625 [==============================] - 58s 93ms/step - loss: 0.1935 - accuracy: 0.9227 - val_loss: 0.2835 - val_accuracy: 0.8947\n",
            "Epoch 10/10\n",
            "625/625 [==============================] - 58s 92ms/step - loss: 0.1757 - accuracy: 0.9305 - val_loss: 0.2775 - val_accuracy: 0.8956\n"
          ]
        }
      ]
    },
    {
      "cell_type": "code",
      "source": [
        "# Evaluate the model on the test set\n",
        "y_pred_prob = model.predict(x_test)\n",
        "y_pred = (y_pred_prob > 0.5).astype('int32')\n",
        "\n",
        "# Calculate evaluation metrics\n",
        "precision = precision_score(y_test_bin, y_pred)\n",
        "recall = recall_score(y_test_bin, y_pred)\n",
        "f1 = f1_score(y_test_bin, y_pred)\n",
        "accuracy = accuracy_score(y_test_bin, y_pred)"
      ],
      "metadata": {
        "colab": {
          "base_uri": "https://localhost:8080/"
        },
        "id": "Tj7v_nuVmXKG",
        "outputId": "d3dd5914-d2e1-42a7-a9b9-43552285232f"
      },
      "execution_count": 9,
      "outputs": [
        {
          "output_type": "stream",
          "name": "stdout",
          "text": [
            "313/313 [==============================] - 10s 31ms/step\n"
          ]
        }
      ]
    },
    {
      "cell_type": "code",
      "source": [
        "# Print evaluation metrics\n",
        "print(f'Precision: {precision:.4f}')\n",
        "print(f'Recall: {recall:.4f}')\n",
        "print(f'F1 Score: {f1:.4f}')\n",
        "print(f'Accuracy: {accuracy:.4f}')"
      ],
      "metadata": {
        "colab": {
          "base_uri": "https://localhost:8080/"
        },
        "id": "J1jBfKEumfuD",
        "outputId": "afd3499a-3ff5-4466-8a84-e85eb5547c90"
      },
      "execution_count": 10,
      "outputs": [
        {
          "output_type": "stream",
          "name": "stdout",
          "text": [
            "Precision: 0.7260\n",
            "Recall: 0.7155\n",
            "F1 Score: 0.7207\n",
            "Accuracy: 0.8891\n"
          ]
        }
      ]
    },
    {
      "cell_type": "code",
      "source": [
        "# Confusion matrix\n",
        "cm = confusion_matrix(y_test_bin, y_pred)\n",
        "sns.heatmap(cm, annot=True, fmt='d', cmap='Blues')\n",
        "plt.xlabel('Predicted')\n",
        "plt.ylabel('Actual')\n",
        "plt.title('Confusion Matrix')\n",
        "plt.show()"
      ],
      "metadata": {
        "colab": {
          "base_uri": "https://localhost:8080/",
          "height": 472
        },
        "id": "nJWGW_ucmjqY",
        "outputId": "586f4cab-86c7-4ec6-9999-353bf06c4313"
      },
      "execution_count": 11,
      "outputs": [
        {
          "output_type": "display_data",
          "data": {
            "text/plain": [
              "<Figure size 640x480 with 2 Axes>"
            ],
            "image/png": "[encoded data removed]"
          },
          "metadata": {}
        }
      ]
    }
  ]
}